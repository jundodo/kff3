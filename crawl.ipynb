{
 "cells": [
  {
   "cell_type": "code",
   "execution_count": 58,
   "metadata": {},
   "outputs": [],
   "source": [
    "from selenium import webdriver\n",
    "from selenium.webdriver.chrome.service import Service\n",
    "from selenium.webdriver.common.by import By\n",
    "from webdriver_manager.chrome import ChromeDriverManager\n",
    "from selenium.webdriver.common.keys import Keys\n",
    "from selenium.webdriver.common.action_chains import ActionChains\n",
    "from selenium.webdriver.support.ui import WebDriverWait\n",
    "from selenium.webdriver.support import expected_conditions as EC\n",
    "from selenium.webdriver.support.ui import Select\n",
    "import time\n",
    "import pandas as pd"
   ]
  },
  {
   "cell_type": "code",
   "execution_count": 63,
   "metadata": {},
   "outputs": [],
   "source": [
    "driver = webdriver.Chrome(service = Service(ChromeDriverManager().install()))\n",
    "\n",
    "titles = []\n",
    "sources = []\n",
    "contents = []\n",
    "facts = []\n",
    "links = []\n",
    "last_reg_dates=[]\n",
    "current_address = []"
   ]
  },
  {
   "cell_type": "code",
   "execution_count": 64,
   "metadata": {},
   "outputs": [],
   "source": [
    "#최종 등록 날짜 최신화 위한 함수\n",
    "def select_date():\n",
    "    select_date_element = driver.find_element(By.XPATH, '//*[@id=\"__next\"]/div/div[2]/div/div[2]/div[1]/div[2]/div[1]/select')\n",
    "    select = Select(select_date_element)\n",
    "    select.select_by_index(0)\n",
    "    selected_option_text = select.first_selected_option.text\n",
    "    last_date = selected_option_text.replace(\"최종 등록: \",\"\").strip()\n",
    "    return last_date"
   ]
  },
  {
   "cell_type": "code",
   "execution_count": 65,
   "metadata": {},
   "outputs": [
    {
     "name": "stdout",
     "output_type": "stream",
     "text": [
      "3\n",
      "3\n",
      "3\n"
     ]
    }
   ],
   "source": [
    "#기사 개수 1부터 시작\n",
    "article_amount = int(input(\"원하는 기사 개수를 입력하세요 : \"))\n",
    "\n",
    "for i in range(1,article_amount+1):\n",
    "    \n",
    "    #출처 links 가져오기 위함\n",
    "    all_links = []\n",
    "\n",
    "    #해당 url로 이동\n",
    "    url = f\"https://factcheck.snu.ac.kr/facts/show?id={i}\"\n",
    "    driver.get(url)\n",
    "    driver.implicitly_wait(10)\n",
    "    #해당 url의 내용 스크랩핑\n",
    "    \n",
    "    source_links = driver.find_elements(By.CSS_SELECTOR, '.jsx-727853492 .fact-check-source .jsx-727853492')\n",
    "    #모든 source_link 가져오기 위함\n",
    "        # 웹 요소가 없으면 '-'를 추가\n",
    "    if not source_links:\n",
    "        source_links.append('-')\n",
    "\n",
    "    for link in source_links:\n",
    "        # '-' 문자열이면 그대로 '-', 아니면 href 속성을 가져옴\n",
    "        if link == '-':\n",
    "            get_link = '-'\n",
    "            all_links.append(get_link)\n",
    "        else:\n",
    "            get_link = link.get_attribute('href')\n",
    "            all_links.append(get_link)\n",
    "\n",
    "\n",
    "    title = driver.find_element(By.CSS_SELECTOR, '.jsx-727853492 .fact-lead-message').text\n",
    "    source = driver.find_element(By.CSS_SELECTOR, '.jsx-727853492 .fact-check-source').text\n",
    "    fact = driver.find_element(By.CSS_SELECTOR, '.jsx-727853492 .fact-dial-label-text').text\n",
    "    content = driver.find_element(By.CSS_SELECTOR, '.jsx-727853492 .mobile-display').text\n",
    "    last_reg_date = select_date()\n",
    "    current_url = driver.current_url\n",
    "\n",
    "    driver.implicitly_wait(10)\n",
    "\n",
    "    titles.append(title)\n",
    "    sources.append(source)\n",
    "    contents.append(content)\n",
    "    facts.append(fact)\n",
    "    last_reg_dates.append(last_reg_date)\n",
    "    current_address.append(current_url)\n",
    "    links.append(all_links)\n",
    "driver.quit()\n",
    "\n",
    "print(len(links))\n",
    "print(len(titles))\n",
    "print(len(sources))"
   ]
  },
  {
   "cell_type": "code",
   "execution_count": 67,
   "metadata": {},
   "outputs": [],
   "source": [
    "df = pd.DataFrame({\n",
    "    'Title' : titles,\n",
    "    'Source' : sources,\n",
    "    'Content' : contents,\n",
    "    'Fact' : facts,\n",
    "    'last register date' : last_reg_dates,\n",
    "    'Source links' : links,\n",
    "    'Snu url' : current_address\n",
    "})\n",
    "df.to_excel('/Users/home/Desktop/recentVision/data/crawled_data.xlsx',index = False)"
   ]
  },
  {
   "cell_type": "code",
   "execution_count": null,
   "metadata": {},
   "outputs": [],
   "source": []
  }
 ],
 "metadata": {
  "kernelspec": {
   "display_name": "base",
   "language": "python",
   "name": "python3"
  },
  "language_info": {
   "codemirror_mode": {
    "name": "ipython",
    "version": 3
   },
   "file_extension": ".py",
   "mimetype": "text/x-python",
   "name": "python",
   "nbconvert_exporter": "python",
   "pygments_lexer": "ipython3",
   "version": "3.11.5"
  }
 },
 "nbformat": 4,
 "nbformat_minor": 2
}
